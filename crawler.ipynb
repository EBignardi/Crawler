{
 "cells": [
  {
   "cell_type": "markdown",
   "metadata": {},
   "source": [
    "Librerie"
   ]
  },
  {
   "cell_type": "code",
   "execution_count": null,
   "metadata": {},
   "outputs": [],
   "source": [
    "import scrapy"
   ]
  },
  {
   "cell_type": "markdown",
   "metadata": {},
   "source": [
    "Crawler"
   ]
  },
  {
   "cell_type": "code",
   "execution_count": null,
   "metadata": {},
   "outputs": [],
   "source": [
    "\n",
    "class ImmobiliareSpider(scrapy.Spider):\n",
    "    name = 'immobiliare'\n",
    "    allowed_domains = ['immobiliare.it']\n",
    "    start_urls = ['https://www.immobiliare.it/vendita-case/']\n",
    "\n",
    "    def parse(self, response):\n",
    "        for property in response.css('div.listing-item'):\n",
    "            yield {\n",
    "                'title': property.css('h2.title::text').get(),\n",
    "                'price': property.css('li.price::text').get(),\n",
    "                'location': property.css('li.location::text').get(),\n",
    "                'details': property.css('ul.features-list li::text').getall(),\n",
    "            }\n",
    "\n",
    "        next_page = response.css('a.next::attr(href)').get()\n",
    "        if next_page is not None:\n",
    "            yield response.follow(next_page, self.parse)"
   ]
  },
  {
   "cell_type": "code",
   "execution_count": null,
   "metadata": {},
   "outputs": [],
   "source": []
  }
 ],
 "metadata": {
  "language_info": {
   "name": "python"
  }
 },
 "nbformat": 4,
 "nbformat_minor": 2
}
